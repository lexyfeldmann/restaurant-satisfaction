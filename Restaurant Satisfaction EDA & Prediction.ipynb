{
 "cells": [
  {
   "cell_type": "markdown",
   "id": "4750af74",
   "metadata": {},
   "source": [
    "## Lexy Feldmann<br>Restaurant Satisfaction EDA & Prediction"
   ]
  },
  {
   "cell_type": "markdown",
   "id": "ca2eaf7f",
   "metadata": {},
   "source": [
    "### <font color='#6CA6CD'>1. 250-500 word narrative describing your original idea for the analysis/model building business problem. Clearly identify the problem you will address and the target for your model."
   ]
  },
  {
   "cell_type": "markdown",
   "id": "c9c9101e",
   "metadata": {},
   "source": [
    "Running a restaurant can be a great way to make money, but it's not just about serving good food and having good ambiance. There are a lot of ways a customer can have a bad experience at a restaurant, but some things are out of the restaurant's control. These things can be subconscious to the customer, like how many people they brought with them to enjoy the food, or what type of occasion they are celebrating by going to the restaurant? We know that things like the price of the food, how long they had to wait for their orders, or if they are a loyalty member or not are all easy factors to identify if someone is going to like their experience at a restaurant or not. These are not the factors this research is going to focus on. This research aims to focus on the factors that the restaurant simply cannot control, but can account for. One may not realize it, but the amount of people you cart along with you to a restaurant could affect your mood towards the restaurant itself. Maybe you came with your three screaming kids or your partner that you are arguing with. Maybe the reason you are coming to the restaurant at all will affect how much you are going to like your experience. These things can all subconsciously affect your attitude towards a restaurant and therefore the satisfaction rating you give it. This analysis attempts to explain restaurant ratings based on how many people are in your group at the time of going to the restaurant, what the occasion is that you are there for, and what time of day you are coming into the restaurant. These findings will aim to help owners market their restaurants in ways that attract the happiest customers, as well as help boost the ratings of customers who may need a little more attention during their time at the establishment."
   ]
  },
  {
   "cell_type": "markdown",
   "id": "bbcea925",
   "metadata": {},
   "source": [
    "### <font color='#6CA6CD'>2. Do a graphical analysis creating a minimum of four graphs. Label your graphs appropriately and explain/analyze the information provided by each graph. Your analysis should begin to answer the question(s) you are addressing."
   ]
  },
  {
   "cell_type": "code",
   "execution_count": 1,
   "id": "eb981c95",
   "metadata": {},
   "outputs": [],
   "source": [
    "# Import the necessary libraries\n",
    "import pandas as pd\n",
    "import matplotlib.pyplot as plt"
   ]
  },
  {
   "cell_type": "code",
   "execution_count": 2,
   "id": "0e170f22",
   "metadata": {},
   "outputs": [
    {
     "data": {
      "text/html": [
       "<div>\n",
       "<style scoped>\n",
       "    .dataframe tbody tr th:only-of-type {\n",
       "        vertical-align: middle;\n",
       "    }\n",
       "\n",
       "    .dataframe tbody tr th {\n",
       "        vertical-align: top;\n",
       "    }\n",
       "\n",
       "    .dataframe thead th {\n",
       "        text-align: right;\n",
       "    }\n",
       "</style>\n",
       "<table border=\"1\" class=\"dataframe\">\n",
       "  <thead>\n",
       "    <tr style=\"text-align: right;\">\n",
       "      <th></th>\n",
       "      <th>CustomerID</th>\n",
       "      <th>Age</th>\n",
       "      <th>Gender</th>\n",
       "      <th>Income</th>\n",
       "      <th>VisitFrequency</th>\n",
       "      <th>AverageSpend</th>\n",
       "      <th>PreferredCuisine</th>\n",
       "      <th>TimeOfVisit</th>\n",
       "      <th>GroupSize</th>\n",
       "      <th>DiningOccasion</th>\n",
       "      <th>MealType</th>\n",
       "      <th>OnlineReservation</th>\n",
       "      <th>DeliveryOrder</th>\n",
       "      <th>LoyaltyProgramMember</th>\n",
       "      <th>WaitTime</th>\n",
       "      <th>ServiceRating</th>\n",
       "      <th>FoodRating</th>\n",
       "      <th>AmbianceRating</th>\n",
       "      <th>HighSatisfaction</th>\n",
       "    </tr>\n",
       "  </thead>\n",
       "  <tbody>\n",
       "    <tr>\n",
       "      <th>0</th>\n",
       "      <td>654</td>\n",
       "      <td>35</td>\n",
       "      <td>Male</td>\n",
       "      <td>83380</td>\n",
       "      <td>Weekly</td>\n",
       "      <td>27.829142</td>\n",
       "      <td>Chinese</td>\n",
       "      <td>Breakfast</td>\n",
       "      <td>3</td>\n",
       "      <td>Business</td>\n",
       "      <td>Takeaway</td>\n",
       "      <td>0</td>\n",
       "      <td>1</td>\n",
       "      <td>1</td>\n",
       "      <td>43.523929</td>\n",
       "      <td>2</td>\n",
       "      <td>5</td>\n",
       "      <td>4</td>\n",
       "      <td>0</td>\n",
       "    </tr>\n",
       "    <tr>\n",
       "      <th>1</th>\n",
       "      <td>655</td>\n",
       "      <td>19</td>\n",
       "      <td>Male</td>\n",
       "      <td>43623</td>\n",
       "      <td>Rarely</td>\n",
       "      <td>115.408622</td>\n",
       "      <td>American</td>\n",
       "      <td>Dinner</td>\n",
       "      <td>1</td>\n",
       "      <td>Casual</td>\n",
       "      <td>Dine-in</td>\n",
       "      <td>0</td>\n",
       "      <td>0</td>\n",
       "      <td>0</td>\n",
       "      <td>57.524294</td>\n",
       "      <td>5</td>\n",
       "      <td>5</td>\n",
       "      <td>3</td>\n",
       "      <td>0</td>\n",
       "    </tr>\n",
       "    <tr>\n",
       "      <th>2</th>\n",
       "      <td>656</td>\n",
       "      <td>41</td>\n",
       "      <td>Female</td>\n",
       "      <td>83737</td>\n",
       "      <td>Weekly</td>\n",
       "      <td>106.693771</td>\n",
       "      <td>American</td>\n",
       "      <td>Dinner</td>\n",
       "      <td>6</td>\n",
       "      <td>Celebration</td>\n",
       "      <td>Dine-in</td>\n",
       "      <td>0</td>\n",
       "      <td>1</td>\n",
       "      <td>0</td>\n",
       "      <td>48.682623</td>\n",
       "      <td>3</td>\n",
       "      <td>4</td>\n",
       "      <td>5</td>\n",
       "      <td>0</td>\n",
       "    </tr>\n",
       "    <tr>\n",
       "      <th>3</th>\n",
       "      <td>657</td>\n",
       "      <td>43</td>\n",
       "      <td>Male</td>\n",
       "      <td>96768</td>\n",
       "      <td>Rarely</td>\n",
       "      <td>43.508508</td>\n",
       "      <td>Indian</td>\n",
       "      <td>Lunch</td>\n",
       "      <td>1</td>\n",
       "      <td>Celebration</td>\n",
       "      <td>Dine-in</td>\n",
       "      <td>0</td>\n",
       "      <td>0</td>\n",
       "      <td>0</td>\n",
       "      <td>7.552993</td>\n",
       "      <td>4</td>\n",
       "      <td>5</td>\n",
       "      <td>1</td>\n",
       "      <td>0</td>\n",
       "    </tr>\n",
       "    <tr>\n",
       "      <th>4</th>\n",
       "      <td>658</td>\n",
       "      <td>55</td>\n",
       "      <td>Female</td>\n",
       "      <td>67937</td>\n",
       "      <td>Monthly</td>\n",
       "      <td>148.084627</td>\n",
       "      <td>Chinese</td>\n",
       "      <td>Breakfast</td>\n",
       "      <td>1</td>\n",
       "      <td>Business</td>\n",
       "      <td>Takeaway</td>\n",
       "      <td>0</td>\n",
       "      <td>0</td>\n",
       "      <td>1</td>\n",
       "      <td>37.789041</td>\n",
       "      <td>2</td>\n",
       "      <td>3</td>\n",
       "      <td>5</td>\n",
       "      <td>0</td>\n",
       "    </tr>\n",
       "  </tbody>\n",
       "</table>\n",
       "</div>"
      ],
      "text/plain": [
       "   CustomerID  Age  Gender  Income VisitFrequency  AverageSpend  \\\n",
       "0         654   35    Male   83380         Weekly     27.829142   \n",
       "1         655   19    Male   43623         Rarely    115.408622   \n",
       "2         656   41  Female   83737         Weekly    106.693771   \n",
       "3         657   43    Male   96768         Rarely     43.508508   \n",
       "4         658   55  Female   67937        Monthly    148.084627   \n",
       "\n",
       "  PreferredCuisine TimeOfVisit  GroupSize DiningOccasion  MealType  \\\n",
       "0          Chinese   Breakfast          3       Business  Takeaway   \n",
       "1         American      Dinner          1         Casual   Dine-in   \n",
       "2         American      Dinner          6    Celebration   Dine-in   \n",
       "3           Indian       Lunch          1    Celebration   Dine-in   \n",
       "4          Chinese   Breakfast          1       Business  Takeaway   \n",
       "\n",
       "   OnlineReservation  DeliveryOrder  LoyaltyProgramMember   WaitTime  \\\n",
       "0                  0              1                     1  43.523929   \n",
       "1                  0              0                     0  57.524294   \n",
       "2                  0              1                     0  48.682623   \n",
       "3                  0              0                     0   7.552993   \n",
       "4                  0              0                     1  37.789041   \n",
       "\n",
       "   ServiceRating  FoodRating  AmbianceRating  HighSatisfaction  \n",
       "0              2           5               4                 0  \n",
       "1              5           5               3                 0  \n",
       "2              3           4               5                 0  \n",
       "3              4           5               1                 0  \n",
       "4              2           3               5                 0  "
      ]
     },
     "execution_count": 2,
     "metadata": {},
     "output_type": "execute_result"
    }
   ],
   "source": [
    "# Read in the csv data from my desktop\n",
    "restaurant_data = pd.read_csv(\"https://raw.githubusercontent.com/lexyfeldmann/applieddatascience/refs/heads/main/restaurant_customer_satisfaction.csv\")\n",
    "\n",
    "# Print the first five rows to make sure it imported properly\n",
    "restaurant_data.head()"
   ]
  },
  {
   "cell_type": "markdown",
   "id": "161008db",
   "metadata": {},
   "source": [
    "#### <font color='gray'> i. Bar Graph of Average Satisfaction Rating by Group Size"
   ]
  },
  {
   "cell_type": "code",
   "execution_count": 3,
   "id": "65f44955",
   "metadata": {},
   "outputs": [
    {
     "data": {
      "image/png": "[encoded data removed]",
      "text/plain": [
       "<Figure size 640x480 with 1 Axes>"
      ]
     },
     "metadata": {},
     "output_type": "display_data"
    }
   ],
   "source": [
    "# Grab the mean for the HighSatisfaction column and group by the GroupSize column to get the mean for every group size\n",
    "group_ratings = restaurant_data.groupby('GroupSize')['HighSatisfaction'].mean()\n",
    "\n",
    "# Set the labels to be the index of each group_ratings value\n",
    "labels = group_ratings.index\n",
    "\n",
    "# Set the values to be the mean of each group_ratings value\n",
    "values = group_ratings.values\n",
    "\n",
    "# Plot the data in a bar graph visual, add labels and pink color\n",
    "plt.bar(labels, values, color='pink')\n",
    "\n",
    "# Adding a descriptive title and x and y-axis labels\n",
    "plt.title('Percent Highly Satisfied by Group Size')\n",
    "plt.ylabel('Percent Highly Satisfied')\n",
    "plt.xlabel('Group Size')\n",
    "\n",
    "# Show the graph\n",
    "plt.show()"
   ]
  },
  {
   "cell_type": "markdown",
   "id": "2f1922c6",
   "metadata": {},
   "source": [
    "This graph shows that that are differences in how satisifed different group sizes are when they go to a restaurant. The trend seems to be that groups smaller than or equal to 4 people are more satisfied at these restaurants than groups larger than 4 people. This could be because bigger families/groups tend to have more conversation or more things going on at one time, which could make it harder to feel more relaxed and content. This also opens the door for more errors: More people to serve equals more of a chance to mess something up for the employees."
   ]
  },
  {
   "cell_type": "markdown",
   "id": "b965a80d",
   "metadata": {},
   "source": [
    "#### <font color='gray'>ii. Bar Graph of Average Satisfaction Rating by Dining Occasion"
   ]
  },
  {
   "cell_type": "code",
   "execution_count": 4,
   "id": "f6261f2d",
   "metadata": {},
   "outputs": [
    {
     "data": {
      "image/png": "[encoded data removed]",
      "text/plain": [
       "<Figure size 640x480 with 1 Axes>"
      ]
     },
     "metadata": {},
     "output_type": "display_data"
    }
   ],
   "source": [
    "# Grab the mean for the HighSatisfaction column and group by the DiningOccasion column to get the mean for every occasion\n",
    "occasion_ratings = restaurant_data.groupby('DiningOccasion')['HighSatisfaction'].mean()\n",
    "\n",
    "# Set the labels to be the index of each occasion_ratings value\n",
    "labels = occasion_ratings.index\n",
    "\n",
    "# Set the values to be the mean of each occasion_ratings value\n",
    "values = occasion_ratings.values\n",
    "\n",
    "# Plot the data in a bar graph visual, add labels and color\n",
    "plt.bar(labels, values, color='lightblue')\n",
    "\n",
    "# Adding a descriptive title and x and y-axis labels\n",
    "plt.title('Average Satisfaction Rating by Dining Occasion')\n",
    "plt.ylabel('Average Satisfaction Rating')\n",
    "plt.xlabel('Dining Occasion')\n",
    "\n",
    "# Show the graph\n",
    "plt.show()"
   ]
  },
  {
   "cell_type": "markdown",
   "id": "66694c4b",
   "metadata": {},
   "source": [
    "The results from this graph show us that those who come to a restaurant and are celebrating a certain occasion are more likely to rate the restaurant higher than those who come for a business or casual reason. This makes a lot of sense, as individuals who are celebrating are more likely to be in a better mood when they come to a restaurant, which can correspond to a higher satisfaction rating."
   ]
  },
  {
   "cell_type": "markdown",
   "id": "fd75e066",
   "metadata": {},
   "source": [
    "#### <font color='gray'>iii. Pie Chart for Satisfied Small Groups and their Restaurant Visit Frequency"
   ]
  },
  {
   "cell_type": "code",
   "execution_count": 5,
   "id": "0d5814fd",
   "metadata": {},
   "outputs": [],
   "source": [
    "# Filter down the dataframe to customers who visited with a group size of 4 or less and rated their satisfaction as HIGH\n",
    "satisfied_small_groups = restaurant_data[(restaurant_data['GroupSize'] <= 4) & (restaurant_data['HighSatisfaction'] == 1)]"
   ]
  },
  {
   "cell_type": "code",
   "execution_count": 6,
   "id": "243fe2bd",
   "metadata": {},
   "outputs": [
    {
     "data": {
      "image/png": "[encoded data removed]",
      "text/plain": [
       "<Figure size 640x480 with 1 Axes>"
      ]
     },
     "metadata": {},
     "output_type": "display_data"
    }
   ],
   "source": [
    "# Using this new dataframe, grab the counts for each value in the VisitFrequency column\n",
    "frequency_counts = satisfied_small_groups['VisitFrequency'].value_counts()\n",
    "\n",
    "# Set the labels to be the index of each frequency_counts value\n",
    "labels = frequency_counts.index\n",
    "\n",
    "# Set the values to the count of each frequency_counts value\n",
    "values = frequency_counts.values\n",
    "\n",
    "# Create the pie chart using the two variables just created\n",
    "plt.pie(values, labels=labels, autopct='%1.0f%%', colors= ['#FFC04C', '#FF8C00', '#FFE5B4', '#E65100']) # Set colors\n",
    "\n",
    "# Add a descriptive title to the pie chart\n",
    "plt.title('Percentage of each Visit Frequency Category for Satisifed Small Groups')\n",
    "\n",
    "# Show the chart\n",
    "plt.show()"
   ]
  },
  {
   "cell_type": "markdown",
   "id": "c1fd0eaf",
   "metadata": {},
   "source": [
    "This shows us that of the groups that go to a restaurant that are smaller and mark highly satisfied on their survey, most of them visit the restaurant on a weekly basis. This means that the smaller groups (four or less people) that mark Highly Satisfied are more likely to be regular customers than not. This could help marketing teams know to have weekly deals to keep these customers happy and coming back to their restaurant."
   ]
  },
  {
   "cell_type": "markdown",
   "id": "5ca9e317",
   "metadata": {},
   "source": [
    "#### <font color='gray'>iv. Weekly Satisfied Visitors and their Time Of Visit Percentages"
   ]
  },
  {
   "cell_type": "code",
   "execution_count": 7,
   "id": "d8a3a2b0",
   "metadata": {},
   "outputs": [],
   "source": [
    "# Filter the dataset down to weekly customers who have a high satisfaction rating of 1\n",
    "weekly_visits = restaurant_data[(restaurant_data['VisitFrequency'] == 'Weekly')\n",
    "                                & (restaurant_data['HighSatisfaction'] == 1)]"
   ]
  },
  {
   "cell_type": "code",
   "execution_count": 8,
   "id": "8cc860b0",
   "metadata": {},
   "outputs": [
    {
     "data": {
      "image/png": "[encoded data removed]",
      "text/plain": [
       "<Figure size 640x480 with 1 Axes>"
      ]
     },
     "metadata": {},
     "output_type": "display_data"
    }
   ],
   "source": [
    "# Using this new dataframe, grab the counts for each value in the TimeOfVisit column\n",
    "frequency_counts = weekly_visits['TimeOfVisit'].value_counts()\n",
    "\n",
    "# Set the labels to be the index of each frequency_counts value\n",
    "labels = frequency_counts.index\n",
    "\n",
    "# Set the values to the count of each frequency_counts value\n",
    "values = frequency_counts.values\n",
    "\n",
    "# Create the pie chart using the two variables just created\n",
    "plt.pie(values, labels=labels, autopct='%1.0f%%', colors= ['#81C784', '#C3E6CB', '#A2D5AB']) # Set colors\n",
    "\n",
    "# Add a descriptive title to the pie chart\n",
    "plt.title('Percentage of each TimeOfVisit Category for Weekly Visitors')\n",
    "\n",
    "# Show the chart\n",
    "plt.show()"
   ]
  },
  {
   "cell_type": "markdown",
   "id": "cc6c652d",
   "metadata": {},
   "source": [
    "This shows us that of the most common frequency visit category (weekly), these weekly customers who rate their time at the restaurant as highly satisfied most often than not come in for dinner or breakfast. This could let the restaurant know to target the deals to their weekly customers for breakfast and dinner, and not as much for lunch."
   ]
  },
  {
   "cell_type": "markdown",
   "id": "31c10138",
   "metadata": {},
   "source": [
    "### <font color='#6CA6CD'>3. Write a short overview/conclusion of the insights gained from your graphical analysis."
   ]
  },
  {
   "cell_type": "markdown",
   "id": "7eb21954",
   "metadata": {},
   "source": [
    "The first graph shows us that as group size at a restaurant goes up (after 4), the satisfaction rating goes down. This can let employees for a restaurant know to pay extra close attention to groups larger than 4 to help them have a better experience. In commercials for the restaurant, the marketing team could show groups of four or less people enjoying the food, as a way to subliminally market to smaller groups of people coming to their restaurant. This would make customers happy, satisfaction ratings go up, and therefore make more revenue for the restuarant. Our second graph shows that individuals who come to the restaurant as a way of celebrating something are more likely to have a higher satisfaction rating (on average). This makes sense, as individuals who come to the restaurant are probably already in a better mood, and are therefore more likely to have a better experience. Marketing teams for the restaurant could showcase their restaurant as a great place for celebrations, and they could tell their employees to ask individuals why they came to/ordered from the restaurant. If a customer says that they came for a casual visit, employees could pay extra special attention to those patrons in order to get their satisfaction ratings higher. The third graph shows us that of the smaller groups (four or less customers) who rated a 1 in the Higher Satisfaction category (meaning they were highly satisfied), 64% of them attend the restaurant weekly. If we look at this from a broader scale, taking the filters off the dataset, we do see that most customers come on a weekly basis. The restaurant could use this insight as a way to market for weekly deals that keep people coming back, as well as keep their weekly customers happy. The final graph shows us that those who visit on a weekly basis and have a satisfaction score of 1 mainly come during breakfast or dinner. This can also help the restaurants to know to market more for breakfast and dinner specials, and not as much for lunchtime. "
   ]
  },
  {
   "cell_type": "markdown",
   "id": "375eae4e",
   "metadata": {},
   "source": [
    "## 7.2 Exercise: Term Project Milestone 2: Data Preparation"
   ]
  },
  {
   "cell_type": "code",
   "execution_count": 9,
   "id": "c49d3cd2",
   "metadata": {},
   "outputs": [],
   "source": [
    "# Import necessary libraries\n",
    "from sklearn.model_selection import train_test_split"
   ]
  },
  {
   "cell_type": "markdown",
   "id": "69d2beeb",
   "metadata": {},
   "source": [
    "### <font color='#C8A2C8'>1. Drop unnecessary features"
   ]
  },
  {
   "cell_type": "code",
   "execution_count": 10,
   "id": "f46d63bb",
   "metadata": {},
   "outputs": [
    {
     "data": {
      "text/html": [
       "<div>\n",
       "<style scoped>\n",
       "    .dataframe tbody tr th:only-of-type {\n",
       "        vertical-align: middle;\n",
       "    }\n",
       "\n",
       "    .dataframe tbody tr th {\n",
       "        vertical-align: top;\n",
       "    }\n",
       "\n",
       "    .dataframe thead th {\n",
       "        text-align: right;\n",
       "    }\n",
       "</style>\n",
       "<table border=\"1\" class=\"dataframe\">\n",
       "  <thead>\n",
       "    <tr style=\"text-align: right;\">\n",
       "      <th></th>\n",
       "      <th>Age</th>\n",
       "      <th>Gender</th>\n",
       "      <th>Income</th>\n",
       "      <th>VisitFrequency</th>\n",
       "      <th>TimeOfVisit</th>\n",
       "      <th>GroupSize</th>\n",
       "      <th>DiningOccasion</th>\n",
       "      <th>HighSatisfaction</th>\n",
       "    </tr>\n",
       "  </thead>\n",
       "  <tbody>\n",
       "    <tr>\n",
       "      <th>0</th>\n",
       "      <td>35</td>\n",
       "      <td>Male</td>\n",
       "      <td>83380</td>\n",
       "      <td>Weekly</td>\n",
       "      <td>Breakfast</td>\n",
       "      <td>3</td>\n",
       "      <td>Business</td>\n",
       "      <td>0</td>\n",
       "    </tr>\n",
       "    <tr>\n",
       "      <th>1</th>\n",
       "      <td>19</td>\n",
       "      <td>Male</td>\n",
       "      <td>43623</td>\n",
       "      <td>Rarely</td>\n",
       "      <td>Dinner</td>\n",
       "      <td>1</td>\n",
       "      <td>Casual</td>\n",
       "      <td>0</td>\n",
       "    </tr>\n",
       "    <tr>\n",
       "      <th>2</th>\n",
       "      <td>41</td>\n",
       "      <td>Female</td>\n",
       "      <td>83737</td>\n",
       "      <td>Weekly</td>\n",
       "      <td>Dinner</td>\n",
       "      <td>6</td>\n",
       "      <td>Celebration</td>\n",
       "      <td>0</td>\n",
       "    </tr>\n",
       "    <tr>\n",
       "      <th>3</th>\n",
       "      <td>43</td>\n",
       "      <td>Male</td>\n",
       "      <td>96768</td>\n",
       "      <td>Rarely</td>\n",
       "      <td>Lunch</td>\n",
       "      <td>1</td>\n",
       "      <td>Celebration</td>\n",
       "      <td>0</td>\n",
       "    </tr>\n",
       "    <tr>\n",
       "      <th>4</th>\n",
       "      <td>55</td>\n",
       "      <td>Female</td>\n",
       "      <td>67937</td>\n",
       "      <td>Monthly</td>\n",
       "      <td>Breakfast</td>\n",
       "      <td>1</td>\n",
       "      <td>Business</td>\n",
       "      <td>0</td>\n",
       "    </tr>\n",
       "  </tbody>\n",
       "</table>\n",
       "</div>"
      ],
      "text/plain": [
       "   Age  Gender  Income VisitFrequency TimeOfVisit  GroupSize DiningOccasion  \\\n",
       "0   35    Male   83380         Weekly   Breakfast          3       Business   \n",
       "1   19    Male   43623         Rarely      Dinner          1         Casual   \n",
       "2   41  Female   83737         Weekly      Dinner          6    Celebration   \n",
       "3   43    Male   96768         Rarely       Lunch          1    Celebration   \n",
       "4   55  Female   67937        Monthly   Breakfast          1       Business   \n",
       "\n",
       "   HighSatisfaction  \n",
       "0                 0  \n",
       "1                 0  \n",
       "2                 0  \n",
       "3                 0  \n",
       "4                 0  "
      ]
     },
     "execution_count": 10,
     "metadata": {},
     "output_type": "execute_result"
    }
   ],
   "source": [
    "# Drop unnecessary features from the dataframe\n",
    "restaurant_data = restaurant_data.drop(['CustomerID', 'PreferredCuisine','LoyaltyProgramMember', 'DeliveryOrder',\n",
    "                                        'WaitTime', 'OnlineReservation', 'AverageSpend', 'MealType', 'ServiceRating',\n",
    "                                        'FoodRating', 'AmbianceRating'], axis=1)\n",
    "\n",
    "# Print the dataframe to view the changes\n",
    "restaurant_data.head()"
   ]
  },
  {
   "cell_type": "markdown",
   "id": "d47cbe06",
   "metadata": {},
   "source": [
    "**CustomerID:** Unnecessary to have in the dataset. Gives us no insight.\n",
    "\n",
    "**PreferredCuisine:** We have no interest in seeing the effects of a customer's 'preferred cuisine' on the HighSatisfaction rating. This will add no insight into how to make the restaurant better. If the restaurant is a chinese place, it will not just change it's entire brand (and the food it serves) based on people's cuisine preference.\n",
    "\n",
    "**LoyaltyProgramMember:** These customers are more likely to rate higher, as those who have loyalty accounts are probably more likely to enjoy the place they have the account for than those who don't. This would not give us any valuable insight into the HighSatisfaction rating and how to improve the restaurant.\n",
    "\n",
    "**DeliveryOrder:** This may tell us if the restaurant does better with deliveries versus pickups/in store purchases, however that is something we can control and therefore would not give us any insight into how to better market the restaurant (as the owners probably do not want to move the restaurant to delivery only or in-store only).\n",
    "\n",
    "**WaitTime:** This is something that the restaurant employees/owner can control for, therefore we are not measuring it.\n",
    "\n",
    "**OnlineReservation:** This may tell us if the restaurant does better with individuals who book a reservation before coming in, however does not give us much insight into how to better market the restaurant to solve for the things we cannot control.\n",
    "\n",
    "**AverageSpend:** We are not measuring how much someone spends at the restaurant in correlation to how much they enjoyed their time there.\n",
    "\n",
    "**MealType:** This may tell us if the restaurant does better with individuals who dine in versus takeout, however does not give us much insight into how to better market the restaurant to solve for the things we cannot control.\n",
    "\n",
    "**ServiceRating, FoodRating, AmbianceRating:** These are all things the restaurant can control. They can have better service, make better food, and create a better restaurant environment, therefore we are not measuring them against satisfaction."
   ]
  },
  {
   "cell_type": "markdown",
   "id": "a293523a",
   "metadata": {},
   "source": [
    "### <font color='#C8A2C8'>2. Create dummy variables for categorical columns"
   ]
  },
  {
   "cell_type": "code",
   "execution_count": 11,
   "id": "82eb01a1",
   "metadata": {},
   "outputs": [
    {
     "data": {
      "text/html": [
       "<div>\n",
       "<style scoped>\n",
       "    .dataframe tbody tr th:only-of-type {\n",
       "        vertical-align: middle;\n",
       "    }\n",
       "\n",
       "    .dataframe tbody tr th {\n",
       "        vertical-align: top;\n",
       "    }\n",
       "\n",
       "    .dataframe thead th {\n",
       "        text-align: right;\n",
       "    }\n",
       "</style>\n",
       "<table border=\"1\" class=\"dataframe\">\n",
       "  <thead>\n",
       "    <tr style=\"text-align: right;\">\n",
       "      <th></th>\n",
       "      <th>Age</th>\n",
       "      <th>Income</th>\n",
       "      <th>GroupSize</th>\n",
       "      <th>HighSatisfaction</th>\n",
       "      <th>Gender_Male</th>\n",
       "      <th>VisitFrequency_Monthly</th>\n",
       "      <th>VisitFrequency_Rarely</th>\n",
       "      <th>VisitFrequency_Weekly</th>\n",
       "      <th>DiningOccasion_Casual</th>\n",
       "      <th>DiningOccasion_Celebration</th>\n",
       "      <th>TimeOfVisit_Dinner</th>\n",
       "      <th>TimeOfVisit_Lunch</th>\n",
       "    </tr>\n",
       "  </thead>\n",
       "  <tbody>\n",
       "    <tr>\n",
       "      <th>0</th>\n",
       "      <td>35</td>\n",
       "      <td>83380</td>\n",
       "      <td>3</td>\n",
       "      <td>0</td>\n",
       "      <td>True</td>\n",
       "      <td>False</td>\n",
       "      <td>False</td>\n",
       "      <td>True</td>\n",
       "      <td>False</td>\n",
       "      <td>False</td>\n",
       "      <td>False</td>\n",
       "      <td>False</td>\n",
       "    </tr>\n",
       "    <tr>\n",
       "      <th>1</th>\n",
       "      <td>19</td>\n",
       "      <td>43623</td>\n",
       "      <td>1</td>\n",
       "      <td>0</td>\n",
       "      <td>True</td>\n",
       "      <td>False</td>\n",
       "      <td>True</td>\n",
       "      <td>False</td>\n",
       "      <td>True</td>\n",
       "      <td>False</td>\n",
       "      <td>True</td>\n",
       "      <td>False</td>\n",
       "    </tr>\n",
       "    <tr>\n",
       "      <th>2</th>\n",
       "      <td>41</td>\n",
       "      <td>83737</td>\n",
       "      <td>6</td>\n",
       "      <td>0</td>\n",
       "      <td>False</td>\n",
       "      <td>False</td>\n",
       "      <td>False</td>\n",
       "      <td>True</td>\n",
       "      <td>False</td>\n",
       "      <td>True</td>\n",
       "      <td>True</td>\n",
       "      <td>False</td>\n",
       "    </tr>\n",
       "    <tr>\n",
       "      <th>3</th>\n",
       "      <td>43</td>\n",
       "      <td>96768</td>\n",
       "      <td>1</td>\n",
       "      <td>0</td>\n",
       "      <td>True</td>\n",
       "      <td>False</td>\n",
       "      <td>True</td>\n",
       "      <td>False</td>\n",
       "      <td>False</td>\n",
       "      <td>True</td>\n",
       "      <td>False</td>\n",
       "      <td>True</td>\n",
       "    </tr>\n",
       "    <tr>\n",
       "      <th>4</th>\n",
       "      <td>55</td>\n",
       "      <td>67937</td>\n",
       "      <td>1</td>\n",
       "      <td>0</td>\n",
       "      <td>False</td>\n",
       "      <td>True</td>\n",
       "      <td>False</td>\n",
       "      <td>False</td>\n",
       "      <td>False</td>\n",
       "      <td>False</td>\n",
       "      <td>False</td>\n",
       "      <td>False</td>\n",
       "    </tr>\n",
       "  </tbody>\n",
       "</table>\n",
       "</div>"
      ],
      "text/plain": [
       "   Age  Income  GroupSize  HighSatisfaction  Gender_Male  \\\n",
       "0   35   83380          3                 0         True   \n",
       "1   19   43623          1                 0         True   \n",
       "2   41   83737          6                 0        False   \n",
       "3   43   96768          1                 0         True   \n",
       "4   55   67937          1                 0        False   \n",
       "\n",
       "   VisitFrequency_Monthly  VisitFrequency_Rarely  VisitFrequency_Weekly  \\\n",
       "0                   False                  False                   True   \n",
       "1                   False                   True                  False   \n",
       "2                   False                  False                   True   \n",
       "3                   False                   True                  False   \n",
       "4                    True                  False                  False   \n",
       "\n",
       "   DiningOccasion_Casual  DiningOccasion_Celebration  TimeOfVisit_Dinner  \\\n",
       "0                  False                       False               False   \n",
       "1                   True                       False                True   \n",
       "2                  False                        True                True   \n",
       "3                  False                        True               False   \n",
       "4                  False                       False               False   \n",
       "\n",
       "   TimeOfVisit_Lunch  \n",
       "0              False  \n",
       "1              False  \n",
       "2              False  \n",
       "3               True  \n",
       "4              False  "
      ]
     },
     "execution_count": 11,
     "metadata": {},
     "output_type": "execute_result"
    }
   ],
   "source": [
    "# Create dummy variables for gender\n",
    "restaurant_data = pd.get_dummies(restaurant_data, columns=['Gender'], drop_first=True)\n",
    "\n",
    "# Create dummy variables for visitfrequency\n",
    "restaurant_data = pd.get_dummies(restaurant_data, columns=['VisitFrequency'], drop_first=True)\n",
    "\n",
    "# Create dummy variables for diningoccasion\n",
    "restaurant_data = pd.get_dummies(restaurant_data, columns=['DiningOccasion'], drop_first=True)\n",
    "\n",
    "# Create dummy variables for MealType\n",
    "restaurant_data = pd.get_dummies(restaurant_data, columns=['TimeOfVisit'], drop_first=True)\n",
    "\n",
    "# Print the first five rows to view the change\n",
    "restaurant_data.head()"
   ]
  },
  {
   "cell_type": "markdown",
   "id": "23ecb809",
   "metadata": {},
   "source": [
    "These categorical columns needed to be converted to numerical because linear regression models requires numerical input. Creating dummy variables for these columns ensures that the model can interpret them properly."
   ]
  },
  {
   "cell_type": "markdown",
   "id": "31b2afe1",
   "metadata": {},
   "source": [
    "### <font color='#C8A2C8'>3. Split the data up into training and test set data"
   ]
  },
  {
   "cell_type": "code",
   "execution_count": 12,
   "id": "68681b67",
   "metadata": {},
   "outputs": [],
   "source": [
    "# Grab the features of the data\n",
    "features = restaurant_data.drop('HighSatisfaction', axis=1)  # Features (all columns except 'HighSatisfaction')\n",
    "\n",
    "# Grab the target of the data\n",
    "target = restaurant_data['HighSatisfaction'] # The HighSatisfaction column\n",
    "\n",
    "# Split the data into 80% training and 20% testing\n",
    "features_train, features_test, target_train, target_test = train_test_split(features, target, test_size=0.2, # 20% test data\n",
    "                                                                            random_state=42)"
   ]
  },
  {
   "cell_type": "markdown",
   "id": "a81d4dd1",
   "metadata": {},
   "source": [
    "Splitting the data into 80% training and 20% testing data prepares the data to be used in the Linear Regression model in the next step. By having 80% of the data used for training helps the model learn patterns and relationships in the dataset. The rest will be used to evaluate the model's performance on unseen (new) data. This is to help in assessing how well the model is able to generalize beyond what it was trained on."
   ]
  },
  {
   "cell_type": "markdown",
   "id": "9a4b659f",
   "metadata": {},
   "source": [
    "## 9.2 Exercise: Term Project Milestone 3: Model Building and Evaluation"
   ]
  },
  {
   "cell_type": "code",
   "execution_count": 13,
   "id": "bb34db43",
   "metadata": {},
   "outputs": [],
   "source": [
    "# Import the necessary libraries for this milestone\n",
    "import numpy as np\n",
    "from sklearn.preprocessing import StandardScaler\n",
    "from sklearn.pipeline import make_pipeline\n",
    "from sklearn.linear_model import LogisticRegression\n",
    "from sklearn.metrics import classification_report, accuracy_score, precision_recall_curve"
   ]
  },
  {
   "cell_type": "markdown",
   "id": "5304ca8c",
   "metadata": {},
   "source": [
    "#### Train a logistic regression model"
   ]
  },
  {
   "cell_type": "code",
   "execution_count": 14,
   "id": "bf133959",
   "metadata": {},
   "outputs": [],
   "source": [
    "# Create a pipeline with StandardScaler and LogisticRegression\n",
    "# Because we have way more instances of 0 in the dataset for the HighSatisfaction column than we do 0, use class_weight\n",
    "# equals 'balanced' to focus more on the minority class, which will improve its performance on class 1.\n",
    "pipeline = make_pipeline(\n",
    "    StandardScaler(),\n",
    "    LogisticRegression(class_weight='balanced')\n",
    ")\n",
    "\n",
    "# Train the model using the training data\n",
    "lr_model = pipeline.fit(features_train, target_train)"
   ]
  },
  {
   "cell_type": "markdown",
   "id": "485adb41",
   "metadata": {},
   "source": [
    "#### Grab the model accuracy"
   ]
  },
  {
   "cell_type": "code",
   "execution_count": 15,
   "id": "25588299",
   "metadata": {},
   "outputs": [
    {
     "name": "stdout",
     "output_type": "stream",
     "text": [
      "Model accuracy: 0.6066666666666667\n"
     ]
    }
   ],
   "source": [
    "# Evaluate the model using the test data\n",
    "accuracy = lr_model.score(features_test, target_test)\n",
    "\n",
    "# Print the accuracy score of the model\n",
    "print(\"Model accuracy:\", accuracy)"
   ]
  },
  {
   "cell_type": "markdown",
   "id": "e9f84674",
   "metadata": {},
   "source": [
    "#### Grab the classification report for this model"
   ]
  },
  {
   "cell_type": "code",
   "execution_count": 16,
   "id": "752e0610",
   "metadata": {},
   "outputs": [
    {
     "name": "stdout",
     "output_type": "stream",
     "text": [
      "Classification Report:\n",
      "               precision    recall  f1-score   support\n",
      "\n",
      "           0       0.93      0.59      0.72       259\n",
      "           1       0.22      0.73      0.34        41\n",
      "\n",
      "    accuracy                           0.61       300\n",
      "   macro avg       0.58      0.66      0.53       300\n",
      "weighted avg       0.83      0.61      0.67       300\n",
      "\n"
     ]
    }
   ],
   "source": [
    "# Predict the labels for the test set\n",
    "predictions = lr_model.predict(features_test)\n",
    "\n",
    "# Generate the classification report\n",
    "report = classification_report(target_test, predictions)\n",
    "\n",
    "# Print the classification report to see how well the model performed\n",
    "print(\"Classification Report:\\n\", report)"
   ]
  },
  {
   "cell_type": "markdown",
   "id": "d40438c8",
   "metadata": {},
   "source": [
    "Not happy with this... can definitely improve the performance of predictions for class 1."
   ]
  },
  {
   "cell_type": "markdown",
   "id": "c7d51516",
   "metadata": {},
   "source": [
    "#### Find the optimal threshold for the model"
   ]
  },
  {
   "cell_type": "code",
   "execution_count": 17,
   "id": "f24d0a11",
   "metadata": {},
   "outputs": [
    {
     "name": "stdout",
     "output_type": "stream",
     "text": [
      "Optimal Threshold: 0.6547738664213585\n"
     ]
    }
   ],
   "source": [
    "# Get predicted probabilities for each class in the test set\n",
    "# Each row will correspond to sample data and contains probability of class 0 and class 1\n",
    "probabilities = pipeline.predict_proba(features_test)[:, 1]\n",
    "\n",
    "# Compute precision, recall, and thresholds using the function precision_recall_curve\n",
    "# The target_test is used to show the true labels for the test data and then the probabilities are those that are predicted\n",
    "model_precision, model_recall, model_thresholds = precision_recall_curve(target_test, probabilities)\n",
    "\n",
    "# Calculation to find the f1 score for each threshold\n",
    "model_f1_scores = (2 * (model_precision * model_recall)) / (model_precision + model_recall)\n",
    "\n",
    "# Finds index of the highest f1 score and stores it in optimal_idx variable\n",
    "optimal_idx = np.argmax(model_f1_scores)\n",
    "\n",
    "# Grab the most optimal threshold based on the corresponding index and store it in optimal_threshold variable\n",
    "optimal_threshold = model_thresholds[optimal_idx]\n",
    "\n",
    "# Print the optimal threshold found\n",
    "print('Optimal Threshold:', optimal_threshold)"
   ]
  },
  {
   "cell_type": "markdown",
   "id": "d6c8b2f1",
   "metadata": {},
   "source": [
    "#### Use optimal threshold in getting new predictions for model"
   ]
  },
  {
   "cell_type": "code",
   "execution_count": 18,
   "id": "a5caf04f",
   "metadata": {},
   "outputs": [],
   "source": [
    "# Now get the predicitions using the optimal_threshold variable\n",
    "# This will compare each probability to the threshold, and will result in a true or false boolean where true means that the\n",
    "# probability is above the threshold and false is not\n",
    "predictions = (probabilities >= optimal_threshold).astype(int) # convert to an int which represents the class labels"
   ]
  },
  {
   "cell_type": "markdown",
   "id": "2d27f809",
   "metadata": {},
   "source": [
    "#### Get the classification report using those predictions"
   ]
  },
  {
   "cell_type": "code",
   "execution_count": 19,
   "id": "d2a4cf06",
   "metadata": {},
   "outputs": [
    {
     "name": "stdout",
     "output_type": "stream",
     "text": [
      "Classification Report with Adjusted Threshold:\n",
      "\n",
      "               precision    recall  f1-score   support\n",
      "\n",
      "           0       0.92      0.87      0.89       259\n",
      "           1       0.39      0.54      0.45        41\n",
      "\n",
      "    accuracy                           0.82       300\n",
      "   macro avg       0.66      0.70      0.67       300\n",
      "weighted avg       0.85      0.82      0.83       300\n",
      "\n"
     ]
    }
   ],
   "source": [
    "# Generate the classification report\n",
    "report = classification_report(target_test, predictions)\n",
    "\n",
    "# Print the classification report to see how well the model performed with the adjusted threshold\n",
    "print('Classification Report with Adjusted Threshold:\\n\\n', report)"
   ]
  },
  {
   "cell_type": "markdown",
   "id": "88fec149",
   "metadata": {},
   "source": [
    "#### Get the accuracy score using those predictions"
   ]
  },
  {
   "cell_type": "code",
   "execution_count": 20,
   "id": "fa418bc2",
   "metadata": {},
   "outputs": [
    {
     "name": "stdout",
     "output_type": "stream",
     "text": [
      "Accuracy Score with Adjusted Threshold: 0.8233333333333334\n"
     ]
    }
   ],
   "source": [
    "# Calculate the accuracy score\n",
    "accuracy = accuracy_score(target_test, predictions)\n",
    "\n",
    "# Print the accuracy score\n",
    "print('Accuracy Score with Adjusted Threshold:', accuracy)"
   ]
  },
  {
   "cell_type": "markdown",
   "id": "6a198342",
   "metadata": {},
   "source": [
    "#### Find the coefficents for how the features are influencing HighSatisfaction"
   ]
  },
  {
   "cell_type": "code",
   "execution_count": 21,
   "id": "60b7fd03",
   "metadata": {},
   "outputs": [
    {
     "name": "stdout",
     "output_type": "stream",
     "text": [
      "                       Feature  Coefficient\n",
      "0                          Age     0.144941\n",
      "1                       Income     0.211599\n",
      "2                    GroupSize    -0.291441\n",
      "3                  Gender_Male    -0.008319\n",
      "4       VisitFrequency_Monthly    -0.245034\n",
      "5        VisitFrequency_Rarely    -0.386529\n",
      "6        VisitFrequency_Weekly     0.248578\n",
      "7        DiningOccasion_Casual     0.128529\n",
      "8   DiningOccasion_Celebration     0.399183\n",
      "9           TimeOfVisit_Dinner     0.007926\n",
      "10           TimeOfVisit_Lunch    -0.079779\n"
     ]
    }
   ],
   "source": [
    "# Get the logistic regression model from the pipeline\n",
    "logistic_regression_model = lr_model.named_steps['logisticregression']\n",
    "\n",
    "# Get the coefficients and feature names\n",
    "coefficients = logistic_regression_model.coef_[0]\n",
    "\n",
    "# Get the names of the features (columns from features_train)\n",
    "feature_names = features_train.columns\n",
    "\n",
    "# Create a DataFrame to display the coefficients and their feature names\n",
    "coeff_df = pd.DataFrame({\n",
    "    'Feature': feature_names,\n",
    "    'Coefficient': coefficients\n",
    "})\n",
    "\n",
    "# Display the most influential features\n",
    "print(coeff_df[['Feature', 'Coefficient']])"
   ]
  },
  {
   "cell_type": "markdown",
   "id": "a03d915f",
   "metadata": {},
   "source": [
    "### Model justification and conclusion"
   ]
  },
  {
   "cell_type": "markdown",
   "id": "3e7f7e90",
   "metadata": {},
   "source": [
    "The reason a logistic regression model was used for this dataset was for a number of reasons. Logistic regressions model the probability of the target class, which in my case is the HighSatisfaction column. It makes it easy to see the probabilities for that column and how predictable the value will be based on the different features (all other columns). This makes it easy to understand and explain when trying to better understand how a variable comes to be. In this case, we are trying to be able to accurately predict someone's satisfaction level based on all other columns, which are more so things outside of the restaurant-owners control. The logistic regression model made it really easy to see how the model performed and what the results mean. As for the obvious, logistic regressions are used for binary classification tasks. In this case, I am only looking at values of 0 or 1 in the HighSatisfaction column, so logistic regression fit the bill for that as well.\n",
    "\n",
    "As for the results of the model and its final predictions, it was found that the overall accuracy was 82%, meaning that my model was able to accurately predict the HighSatisfaction column based on the other features in the dataset 82% of the time. This is a good accuracy score, and it does show very strong performance for class 0. The classification report showed that, for class 0, the model's predictions are right 92% of the time. It also reports that, out of all the actual instances of class 0, the model correctly identifies 87% of them. These are high numbers, which indicates a strong performance for this class. This means that the model can strongly predict when someone is going to indicate that they were not highly satisfied by the restaurant based on features outside of the restaurant's control. As for class 1, the classification report showed that when the model predicts this class it is only correct 39% of the time. It's recall was 0.54, meaning that out of all the actual instances of class 1, the model correctly identified 54% of them. The f1-score is also 0.45, showing room for improvement for class 1. This may just mean that it is harder to predict when someone is going to be highly satisfied with the restaurant based on features outside of the restaurant's control.\n",
    "\n",
    "I did try to use feature selection and even tried methods of handling class imbalance (since I know that class 1 is smaller than class 0), but nothing gave me a better classification report and accuracy (combined) than the code I have above - so I didn't include all that. I will take suggestions on how to make the predictions on class 1 better, as I just couldn't seem to do so!"
   ]
  }
 ],
 "metadata": {
  "kernelspec": {
   "display_name": "Python 3 (ipykernel)",
   "language": "python",
   "name": "python3"
  },
  "language_info": {
   "codemirror_mode": {
    "name": "ipython",
    "version": 3
   },
   "file_extension": ".py",
   "mimetype": "text/x-python",
   "name": "python",
   "nbconvert_exporter": "python",
   "pygments_lexer": "ipython3",
   "version": "3.9.13"
  }
 },
 "nbformat": 4,
 "nbformat_minor": 5
}
